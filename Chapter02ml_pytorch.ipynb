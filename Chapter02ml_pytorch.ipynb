{
  "nbformat": 4,
  "nbformat_minor": 0,
  "metadata": {
    "colab": {
      "provenance": [],
      "authorship_tag": "ABX9TyP0jf1gC8cpg+y5AYPgquIN",
      "include_colab_link": true
    },
    "kernelspec": {
      "name": "python3",
      "display_name": "Python 3"
    },
    "language_info": {
      "name": "python"
    }
  },
  "cells": [
    {
      "cell_type": "markdown",
      "metadata": {
        "id": "view-in-github",
        "colab_type": "text"
      },
      "source": [
        "<a href=\"https://colab.research.google.com/github/afif-af/ml_pytorch_scikitlearn/blob/main/Chapter02ml_pytorch.ipynb\" target=\"_parent\"><img src=\"https://colab.research.google.com/assets/colab-badge.svg\" alt=\"Open In Colab\"/></a>"
      ]
    },
    {
      "cell_type": "code",
      "source": [
        "import numpy as np\n",
        "class Preceptron:\n",
        "  def __init__(self,eta=0.01,n_iter=50,random_state=1):\n",
        "    self.eta=eta\n",
        "    self.n_iter=n_iter\n",
        "    self.random_state=random_state\n",
        "\n",
        "  def fit(self,x,y):\n",
        "    rgen=np.random.RandomState(self.random_state)\n",
        "    self.w_=rgen.normal(loc=0.0, scale=0.01,\n",
        "                        size=x.shape[1])\n",
        "    self.b_=np.float_(0.)\n",
        "    self.errors_=[]\n",
        "\n",
        "    for _ in range(self.n_iter):\n",
        "      errors = 0\n",
        "      for xi, target in zip(x, y):\n",
        "        update =self.eta*(target - self.predict(xi))\n",
        "        self.w_ += update * xi\n",
        "        self.b_ +=update\n",
        "        errors += int(update !=0.0)\n",
        "      self.erros_.append(errors)\n",
        "    return self\n",
        "\n",
        "  def net_input(self, x):\n",
        "    return np.dot(x,self.w_) + self.b_\n",
        "\n",
        "  def predict(self, x):\n",
        "    return np.where(self.net_input(x)>=0.0, 1,0)\n"
      ],
      "metadata": {
        "id": "EMh3GAusMtpx"
      },
      "execution_count": 1,
      "outputs": []
    },
    {
      "cell_type": "code",
      "source": [
        "v1 = np.array([1,2,3])"
      ],
      "metadata": {
        "id": "o6bKb4YLqMdL"
      },
      "execution_count": 2,
      "outputs": []
    },
    {
      "cell_type": "code",
      "source": [
        "v2 = 0.5*v1"
      ],
      "metadata": {
        "id": "qNOkkDd5swY6"
      },
      "execution_count": 3,
      "outputs": []
    },
    {
      "cell_type": "code",
      "source": [
        "np.arccos(v1.dot(v2) / (np.linalg.norm(v1) * np.linalg.norm(v2)))"
      ],
      "metadata": {
        "colab": {
          "base_uri": "https://localhost:8080/"
        },
        "id": "IuyJ0az6syYC",
        "outputId": "e5984faa-a25f-4afa-b070-a10c402e6169"
      },
      "execution_count": 4,
      "outputs": [
        {
          "output_type": "execute_result",
          "data": {
            "text/plain": [
              "np.float64(0.0)"
            ]
          },
          "metadata": {},
          "execution_count": 4
        }
      ]
    },
    {
      "cell_type": "code",
      "source": [],
      "metadata": {
        "id": "bYxHf0mmtCLi"
      },
      "execution_count": 4,
      "outputs": []
    }
  ]
}