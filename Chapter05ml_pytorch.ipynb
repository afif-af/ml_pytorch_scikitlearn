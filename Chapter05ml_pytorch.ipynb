{
  "nbformat": 4,
  "nbformat_minor": 0,
  "metadata": {
    "colab": {
      "provenance": [],
      "authorship_tag": "ABX9TyOMtnVqcBw3vRQA3/3DS8ww",
      "include_colab_link": true
    },
    "kernelspec": {
      "name": "python3",
      "display_name": "Python 3"
    },
    "language_info": {
      "name": "python"
    }
  },
  "cells": [
    {
      "cell_type": "markdown",
      "metadata": {
        "id": "view-in-github",
        "colab_type": "text"
      },
      "source": [
        "<a href=\"https://colab.research.google.com/github/afif-af/ml_pytorch_scikitlearn/blob/main/Chapter05ml_pytorch.ipynb\" target=\"_parent\"><img src=\"https://colab.research.google.com/assets/colab-badge.svg\" alt=\"Open In Colab\"/></a>"
      ]
    },
    {
      "cell_type": "code",
      "execution_count": 3,
      "metadata": {
        "id": "SfMcYGpK39hU"
      },
      "outputs": [],
      "source": [
        "import pandas as pd\n",
        "df_wine = pd.read_csv(\n",
        " 'https://archive.ics.uci.edu/ml/'\n",
        " 'machine-learning-databases/wine/wine.data',\n",
        " header=None\n",
        " )"
      ]
    },
    {
      "cell_type": "code",
      "source": [
        "from sklearn.model_selection import train_test_split\n",
        "X,y=df_wine.iloc[:,1:].values, df_wine.iloc[:,0].values\n",
        "X_train,X_test,y_train,y_test=\\\n",
        "  train_test_split(X,y,test_size=0.3,\n",
        "                   random_state=0,\n",
        "                   stratify=y)"
      ],
      "metadata": {
        "id": "QgvMWbIiGI3u"
      },
      "execution_count": 10,
      "outputs": []
    },
    {
      "cell_type": "code",
      "source": [
        "from sklearn.preprocessing import StandardScaler\n",
        "sc=StandardScaler()\n",
        "X_train_std=sc.fit_transform(X_train)\n",
        "X_test_std=sc.transform(X_test)"
      ],
      "metadata": {
        "id": "OB6A0hOdGwRu"
      },
      "execution_count": 11,
      "outputs": []
    },
    {
      "cell_type": "code",
      "source": [
        "import numpy as np\n",
        "cov_mat=np.cov(X_train_std.T)\n",
        "eigen_vals, eigen_vecs= np.linalg.eig(cov_mat)\n",
        "print('\\n Eigenvalues \\n',eigen_vals)\n"
      ],
      "metadata": {
        "colab": {
          "base_uri": "https://localhost:8080/"
        },
        "id": "H8kQNZXDHByk",
        "outputId": "c9dd6227-a41a-4a9d-fd24-da0b18609b60"
      },
      "execution_count": 12,
      "outputs": [
        {
          "output_type": "stream",
          "name": "stdout",
          "text": [
            "\n",
            " Eigenvalues \n",
            " [4.84274532 2.41602459 1.54845825 0.96120438 0.84166161 0.6620634\n",
            " 0.51828472 0.34650377 0.3131368  0.10754642 0.21357215 0.15362835\n",
            " 0.1808613 ]\n"
          ]
        }
      ]
    },
    {
      "cell_type": "code",
      "source": [],
      "metadata": {
        "id": "Ro2bLt2rLkNP"
      },
      "execution_count": null,
      "outputs": []
    }
  ]
}