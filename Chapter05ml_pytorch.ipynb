{
  "cells": [
    {
      "cell_type": "markdown",
      "metadata": {
        "id": "view-in-github",
        "colab_type": "text"
      },
      "source": [
        "<a href=\"https://colab.research.google.com/github/afif-af/ml_pytorch_scikitlearn/blob/main/Chapter05ml_pytorch.ipynb\" target=\"_parent\"><img src=\"https://colab.research.google.com/assets/colab-badge.svg\" alt=\"Open In Colab\"/></a>"
      ]
    },
    {
      "cell_type": "code",
      "execution_count": 1,
      "metadata": {
        "id": "SfMcYGpK39hU"
      },
      "outputs": [],
      "source": [
        "import pandas as pd\n",
        "df_wine = pd.read_csv(\n",
        "'https://archive.ics.uci.edu/ml/'\n",
        "'machine-learning-databases/wine/wine.data',\n",
        " header=None\n",
        " )"
      ]
    },
    {
      "cell_type": "code",
      "source": [
        "from sklearn.model_selection import train_test_split\n",
        "X, y = df_wine.iloc[:, 1:].values, df_wine.iloc[:, 0].values\n",
        "X_train, X_test, y_train, y_test = \\\n",
        "train_test_split(X, y, test_size=0.3,\n",
        " stratify=y,\n",
        " random_state=0)\n",
        "\n",
        "from sklearn.preprocessing import StandardScaler\n",
        "sc = StandardScaler()\n",
        "X_train_std = sc.fit_transform(X_train)\n",
        "X_test_std = sc.transform(X_test)"
      ],
      "metadata": {
        "id": "wZ6n3am2AH_j"
      },
      "execution_count": 2,
      "outputs": []
    },
    {
      "cell_type": "code",
      "source": [
        "import numpy as np\n",
        "cov_mat = np.cov(X_train_std.T)\n",
        "eigen_vals, eigen_vecs = np.linalg.eig(cov_mat)\n",
        "print('\\nEigenvalues \\n', eigen_vals)\n"
      ],
      "metadata": {
        "colab": {
          "base_uri": "https://localhost:8080/"
        },
        "id": "mRgLqxHBAQqz",
        "outputId": "d5d91889-991b-487b-a2ec-3ab2448fbad3"
      },
      "execution_count": 3,
      "outputs": [
        {
          "output_type": "stream",
          "name": "stdout",
          "text": [
            "\n",
            "Eigenvalues \n",
            " [4.84274532 2.41602459 1.54845825 0.96120438 0.84166161 0.6620634\n",
            " 0.51828472 0.34650377 0.3131368  0.10754642 0.21357215 0.15362835\n",
            " 0.1808613 ]\n"
          ]
        }
      ]
    },
    {
      "cell_type": "code",
      "source": [],
      "metadata": {
        "id": "VwVFOxXcAZcT"
      },
      "execution_count": null,
      "outputs": []
    }
  ],
  "metadata": {
    "colab": {
      "provenance": [],
      "authorship_tag": "ABX9TyN7wRu+0sBT86IbF+OSXvq3",
      "include_colab_link": true
    },
    "kernelspec": {
      "display_name": "Python 3",
      "name": "python3"
    },
    "language_info": {
      "name": "python"
    }
  },
  "nbformat": 4,
  "nbformat_minor": 0
}